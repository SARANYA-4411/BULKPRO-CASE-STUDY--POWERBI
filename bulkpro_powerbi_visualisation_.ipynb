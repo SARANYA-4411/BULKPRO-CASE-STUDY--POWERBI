{
  "nbformat": 4,
  "nbformat_minor": 0,
  "metadata": {
    "colab": {
      "provenance": [],
      "authorship_tag": "ABX9TyOtUUfO94c2MpdhjQ/ll3sS",
      "include_colab_link": true
    },
    "kernelspec": {
      "name": "python3",
      "display_name": "Python 3"
    },
    "language_info": {
      "name": "python"
    }
  },
  "cells": [
    {
      "cell_type": "markdown",
      "metadata": {
        "id": "view-in-github",
        "colab_type": "text"
      },
      "source": [
        "<a href=\"https://colab.research.google.com/github/SARANYA-4411/BULKPRO-CASE-STUDY--POWERBI/blob/main/bulkpro_powerbi_visualisation_.ipynb\" target=\"_parent\"><img src=\"https://colab.research.google.com/assets/colab-badge.svg\" alt=\"Open In Colab\"/></a>"
      ]
    },
    {
      "cell_type": "markdown",
      "source": [
        "powerbi visualisation link \n",
        "\n",
        "\n",
        "[link text](https://app.powerbi.com/view?r=eyJrIjoiYjhjZDMwOTQtMTViNC00M2YxLWIwMjQtN2E2Y2M4ZjQ1MDBiIiwidCI6ImU5OTM0Nzk0LTYzYmEtNGM1My1hODdlLTdiOGMwMmFmZmUyZCJ9)"
      ],
      "metadata": {
        "id": "wYIjI6lHLfpy"
      }
    }
  ]
}